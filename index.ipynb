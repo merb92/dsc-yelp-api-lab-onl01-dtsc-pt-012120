{
 "cells": [
  {
   "cell_type": "markdown",
   "metadata": {},
   "source": [
    "# Yelp API - Lab\n",
    "\n",
    "\n",
    "## Introduction \n",
    "\n",
    "We've seen how the Yelp API works and how to create basic visualizations using Folium. It's time to put those skills to work in order to create a working map! Taking things a step further, you'll also independently explore how to perform pagination in order to retrieve a full results set from the Yelp API!\n",
    "\n",
    "## Objectives\n",
    "\n",
    "You will be able to: \n",
    "\n",
    "* Using pagination and multiple functions, gather large amounts of data from an API, parse the data and make sense of it with meaningful analysis\n",
    "* Create maps using Folium\n",
    "\n",
    "## Problem Introduction\n",
    "\n",
    "You've now worked with some API calls, but we have yet to see how to retrieve a more complete dataset in a programmatic manner. Returning to the Yelp API, the [documentation](https://www.yelp.com/developers/documentation/v3/business_search) also provides us details regarding the API limits. These often include details about the number of requests a user is allowed to make within a specified time limit and the maximum number of results to be returned. In this case, we are told that any request has a maximum of 50 results per request and defaults to 20. Furthermore, any search will be limited to a total of 1000 results. To retrieve all 1000 of these results, we would have to page through the results piece by piece, retrieving 50 at a time. Processes such as these are often referred to as pagination.\n",
    "\n",
    "In this lab, you will define a search and then paginate over the results to retrieve all of the results. You'll then parse these responses as a DataFrame (for further exploration) and create a map using Folium to visualize the results geographically.\n",
    "\n",
    "## Part I - Make the Initial Request\n",
    "\n",
    "Start by making an initial request to the Yelp API. Your search must include at least 2 parameters: **term** and **location**. For example, you might search for pizza restaurants in NYC. The term and location is up to you but make the request below."
   ]
  },
  {
   "cell_type": "code",
   "execution_count": 1,
   "metadata": {},
   "outputs": [],
   "source": [
    "# Your code here\n",
    "import json\n",
    "\n",
    "def get_keys(path):\n",
    "    with open(path) as f:\n",
    "        return json.load(f)\n",
    "  "
   ]
  },
  {
   "cell_type": "code",
   "execution_count": 2,
   "metadata": {},
   "outputs": [],
   "source": [
    "  \n",
    "keys = get_keys('/Users/freethrall/.secret/yelp_api.json')\n",
    "api_key = keys['api_key']"
   ]
  },
  {
   "cell_type": "code",
   "execution_count": 3,
   "metadata": {},
   "outputs": [],
   "source": [
    "import requests\n",
    "\n",
    "term = 'bar'\n",
    "location = 'Ithaca NY'\n",
    "SEARCH_LIMIT = 5\n",
    "url = 'https://api.yelp.com/v3/businesses/search'\n",
    "headers = {'Authorization': 'Bearer {}'.format(api_key)}\n",
    "url_params = {'term': term.replace(' ', '+'),\n",
    "             'location': location.replace(' ', '+'),\n",
    "             'limit': SEARCH_LIMIT, \n",
    "             'offset': 0}"
   ]
  },
  {
   "cell_type": "code",
   "execution_count": 4,
   "metadata": {},
   "outputs": [],
   "source": [
    "response = requests.get(url, headers=headers, params=url_params)"
   ]
  },
  {
   "cell_type": "code",
   "execution_count": 5,
   "metadata": {},
   "outputs": [
    {
     "data": {
      "text/plain": [
       "200"
      ]
     },
     "execution_count": 5,
     "metadata": {},
     "output_type": "execute_result"
    }
   ],
   "source": [
    "response.status_code"
   ]
  },
  {
   "cell_type": "markdown",
   "metadata": {},
   "source": [
    "## Pagination\n",
    "\n",
    "Now that you have an initial response, you can examine the contents of the JSON container. For example, you might start with ```response.json().keys()```. Here, you'll see a key for `'total'`, which tells you the full number of matching results given your query parameters. Write a loop (or ideally a function) which then makes successive API calls using the offset parameter to retrieve all of the results (or 5000 for a particularly large result set) for the original query. As you do this, be mindful of how you store the data. Your final goal will be to reformat the data concerning the businesses themselves into a pandas DataFrame from the json objects.\n",
    "\n",
    "**Note: be mindful of the API rate limits. You can only make 5000 requests per day and are also can make requests too fast. Start prototyping small before running a loop that could be faulty. You can also use time.sleep(n) to add delays. For more details see https://www.yelp.com/developers/documentation/v3/rate_limiting.**"
   ]
  },
  {
   "cell_type": "code",
   "execution_count": 6,
   "metadata": {},
   "outputs": [
    {
     "data": {
      "text/plain": [
       "dict_keys(['businesses', 'total', 'region'])"
      ]
     },
     "execution_count": 6,
     "metadata": {},
     "output_type": "execute_result"
    }
   ],
   "source": [
    "# Your code here; use a function or loop to retrieve all the results from your original request\n",
    "\n",
    "response.json().keys()"
   ]
  },
  {
   "cell_type": "code",
   "execution_count": 7,
   "metadata": {},
   "outputs": [],
   "source": [
    "data = response.json()"
   ]
  },
  {
   "cell_type": "code",
   "execution_count": 8,
   "metadata": {},
   "outputs": [
    {
     "data": {
      "text/plain": [
       "[{'id': '2zpObYpke5VlgflNn-mYEg',\n",
       "  'alias': 'the-loft-ithaca',\n",
       "  'name': 'The Loft',\n",
       "  'image_url': 'https://s3-media4.fl.yelpcdn.com/bphoto/xlA82ezXzu8V94-b2vLJ2A/o.jpg',\n",
       "  'is_closed': False,\n",
       "  'url': 'https://www.yelp.com/biz/the-loft-ithaca?adjust_creative=bxfi5Q8CMydWDJvRn1VRqQ&utm_campaign=yelp_api_v3&utm_medium=api_v3_business_search&utm_source=bxfi5Q8CMydWDJvRn1VRqQ',\n",
       "  'review_count': 14,\n",
       "  'categories': [{'alias': 'bars', 'title': 'Bars'}],\n",
       "  'rating': 5.0,\n",
       "  'coordinates': {'latitude': 42.4418159486127,\n",
       "   'longitude': -76.4896140741939},\n",
       "  'transactions': [],\n",
       "  'location': {'address1': '305 Stewart Ave',\n",
       "   'address2': 'Fl 2',\n",
       "   'address3': None,\n",
       "   'city': 'Ithaca',\n",
       "   'zip_code': '14850',\n",
       "   'country': 'US',\n",
       "   'state': 'NY',\n",
       "   'display_address': ['305 Stewart Ave', 'Fl 2', 'Ithaca, NY 14850']},\n",
       "  'phone': '+16076450152',\n",
       "  'display_phone': '(607) 645-0152',\n",
       "  'distance': 733.7898877986436},\n",
       " {'id': 'cnH0qX1HOrksbwLOEWl7Gg',\n",
       "  'alias': 'bar-argos-ithaca',\n",
       "  'name': 'Bar Argos',\n",
       "  'image_url': 'https://s3-media1.fl.yelpcdn.com/bphoto/kAUf2dgjDKjZdnyEJ_Fxag/o.jpg',\n",
       "  'is_closed': False,\n",
       "  'url': 'https://www.yelp.com/biz/bar-argos-ithaca?adjust_creative=bxfi5Q8CMydWDJvRn1VRqQ&utm_campaign=yelp_api_v3&utm_medium=api_v3_business_search&utm_source=bxfi5Q8CMydWDJvRn1VRqQ',\n",
       "  'review_count': 57,\n",
       "  'categories': [{'alias': 'cocktailbars', 'title': 'Cocktail Bars'}],\n",
       "  'rating': 4.0,\n",
       "  'coordinates': {'latitude': 42.4397202, 'longitude': -76.4930573},\n",
       "  'transactions': [],\n",
       "  'price': '$$',\n",
       "  'location': {'address1': '408 E State St',\n",
       "   'address2': '',\n",
       "   'address3': 'Argos Inn',\n",
       "   'city': 'Ithaca',\n",
       "   'zip_code': '14850',\n",
       "   'country': 'US',\n",
       "   'state': 'NY',\n",
       "   'display_address': ['408 E State St', 'Argos Inn', 'Ithaca, NY 14850']},\n",
       "  'phone': '+16073194437',\n",
       "  'display_phone': '(607) 319-4437',\n",
       "  'distance': 671.6436159258611},\n",
       " {'id': 'sBlXj41G7RPtFYCfnOlD0g',\n",
       "  'alias': 'fall-creek-house-ithaca',\n",
       "  'name': 'Fall Creek House',\n",
       "  'image_url': 'https://s3-media4.fl.yelpcdn.com/bphoto/NRqky9ZTlWpzY6oRTieIOQ/o.jpg',\n",
       "  'is_closed': False,\n",
       "  'url': 'https://www.yelp.com/biz/fall-creek-house-ithaca?adjust_creative=bxfi5Q8CMydWDJvRn1VRqQ&utm_campaign=yelp_api_v3&utm_medium=api_v3_business_search&utm_source=bxfi5Q8CMydWDJvRn1VRqQ',\n",
       "  'review_count': 14,\n",
       "  'categories': [{'alias': 'divebars', 'title': 'Dive Bars'}],\n",
       "  'rating': 4.5,\n",
       "  'coordinates': {'latitude': 42.4527, 'longitude': -76.49496},\n",
       "  'transactions': [],\n",
       "  'price': '$',\n",
       "  'location': {'address1': '302 Lake St',\n",
       "   'address2': '',\n",
       "   'address3': '',\n",
       "   'city': 'Ithaca',\n",
       "   'zip_code': '14850',\n",
       "   'country': 'US',\n",
       "   'state': 'NY',\n",
       "   'display_address': ['302 Lake St', 'Ithaca, NY 14850']},\n",
       "  'phone': '+16072774112',\n",
       "  'display_phone': '(607) 277-4112',\n",
       "  'distance': 841.3942319175391},\n",
       " {'id': 'w312G0LS_gEYUDw4FbnSJg',\n",
       "  'alias': 'bike-bar-ithaca',\n",
       "  'name': 'Bike Bar',\n",
       "  'image_url': 'https://s3-media3.fl.yelpcdn.com/bphoto/EXbSwbo42PEoqAuDlRhX8Q/o.jpg',\n",
       "  'is_closed': False,\n",
       "  'url': 'https://www.yelp.com/biz/bike-bar-ithaca?adjust_creative=bxfi5Q8CMydWDJvRn1VRqQ&utm_campaign=yelp_api_v3&utm_medium=api_v3_business_search&utm_source=bxfi5Q8CMydWDJvRn1VRqQ',\n",
       "  'review_count': 1,\n",
       "  'categories': [{'alias': 'bars', 'title': 'Bars'}],\n",
       "  'rating': 5.0,\n",
       "  'coordinates': {'latitude': 42.4396729451037,\n",
       "   'longitude': -76.4949282036157},\n",
       "  'transactions': [],\n",
       "  'location': {'address1': '314 E State St',\n",
       "   'address2': 'Ste 100',\n",
       "   'address3': None,\n",
       "   'city': 'Ithaca',\n",
       "   'zip_code': '14850',\n",
       "   'country': 'US',\n",
       "   'state': 'NY',\n",
       "   'display_address': ['314 E State St', 'Ste 100', 'Ithaca, NY 14850']},\n",
       "  'phone': '',\n",
       "  'display_phone': '',\n",
       "  'distance': 625.9338298868141},\n",
       " {'id': 'NrN-0SRAb33cVyTXHj3kPg',\n",
       "  'alias': 'silky-jones-ithaca',\n",
       "  'name': 'Silky Jones',\n",
       "  'image_url': 'https://s3-media3.fl.yelpcdn.com/bphoto/s7dhokAU7loaXe3ao2yTgA/o.jpg',\n",
       "  'is_closed': False,\n",
       "  'url': 'https://www.yelp.com/biz/silky-jones-ithaca?adjust_creative=bxfi5Q8CMydWDJvRn1VRqQ&utm_campaign=yelp_api_v3&utm_medium=api_v3_business_search&utm_source=bxfi5Q8CMydWDJvRn1VRqQ',\n",
       "  'review_count': 18,\n",
       "  'categories': [{'alias': 'lounges', 'title': 'Lounges'},\n",
       "   {'alias': 'beerbar', 'title': 'Beer Bar'},\n",
       "   {'alias': 'cocktailbars', 'title': 'Cocktail Bars'}],\n",
       "  'rating': 4.0,\n",
       "  'coordinates': {'latitude': 42.43974, 'longitude': -76.49616},\n",
       "  'transactions': [],\n",
       "  'price': '$',\n",
       "  'location': {'address1': '214 E State St',\n",
       "   'address2': '',\n",
       "   'address3': '',\n",
       "   'city': 'Ithaca',\n",
       "   'zip_code': '14850',\n",
       "   'country': 'US',\n",
       "   'state': 'NY',\n",
       "   'display_address': ['214 E State St', 'Ithaca, NY 14850']},\n",
       "  'phone': '+16072883424',\n",
       "  'display_phone': '(607) 288-3424',\n",
       "  'distance': 581.441884038005}]"
      ]
     },
     "execution_count": 8,
     "metadata": {},
     "output_type": "execute_result"
    }
   ],
   "source": [
    "data['businesses']"
   ]
  },
  {
   "cell_type": "code",
   "execution_count": 9,
   "metadata": {},
   "outputs": [],
   "source": [
    "import pandas as pd "
   ]
  },
  {
   "cell_type": "code",
   "execution_count": 10,
   "metadata": {},
   "outputs": [],
   "source": [
    "df = pd.DataFrame.from_dict(data['businesses'])"
   ]
  },
  {
   "cell_type": "code",
   "execution_count": 11,
   "metadata": {},
   "outputs": [
    {
     "data": {
      "text/html": [
       "<div>\n",
       "<style scoped>\n",
       "    .dataframe tbody tr th:only-of-type {\n",
       "        vertical-align: middle;\n",
       "    }\n",
       "\n",
       "    .dataframe tbody tr th {\n",
       "        vertical-align: top;\n",
       "    }\n",
       "\n",
       "    .dataframe thead th {\n",
       "        text-align: right;\n",
       "    }\n",
       "</style>\n",
       "<table border=\"1\" class=\"dataframe\">\n",
       "  <thead>\n",
       "    <tr style=\"text-align: right;\">\n",
       "      <th></th>\n",
       "      <th>id</th>\n",
       "      <th>alias</th>\n",
       "      <th>name</th>\n",
       "      <th>image_url</th>\n",
       "      <th>is_closed</th>\n",
       "      <th>url</th>\n",
       "      <th>review_count</th>\n",
       "      <th>categories</th>\n",
       "      <th>rating</th>\n",
       "      <th>coordinates</th>\n",
       "      <th>transactions</th>\n",
       "      <th>location</th>\n",
       "      <th>phone</th>\n",
       "      <th>display_phone</th>\n",
       "      <th>distance</th>\n",
       "      <th>price</th>\n",
       "    </tr>\n",
       "  </thead>\n",
       "  <tbody>\n",
       "    <tr>\n",
       "      <td>0</td>\n",
       "      <td>2zpObYpke5VlgflNn-mYEg</td>\n",
       "      <td>the-loft-ithaca</td>\n",
       "      <td>The Loft</td>\n",
       "      <td>https://s3-media4.fl.yelpcdn.com/bphoto/xlA82e...</td>\n",
       "      <td>False</td>\n",
       "      <td>https://www.yelp.com/biz/the-loft-ithaca?adjus...</td>\n",
       "      <td>14</td>\n",
       "      <td>[{'alias': 'bars', 'title': 'Bars'}]</td>\n",
       "      <td>5.0</td>\n",
       "      <td>{'latitude': 42.4418159486127, 'longitude': -7...</td>\n",
       "      <td>[]</td>\n",
       "      <td>{'address1': '305 Stewart Ave', 'address2': 'F...</td>\n",
       "      <td>+16076450152</td>\n",
       "      <td>(607) 645-0152</td>\n",
       "      <td>733.789888</td>\n",
       "      <td>NaN</td>\n",
       "    </tr>\n",
       "    <tr>\n",
       "      <td>1</td>\n",
       "      <td>cnH0qX1HOrksbwLOEWl7Gg</td>\n",
       "      <td>bar-argos-ithaca</td>\n",
       "      <td>Bar Argos</td>\n",
       "      <td>https://s3-media1.fl.yelpcdn.com/bphoto/kAUf2d...</td>\n",
       "      <td>False</td>\n",
       "      <td>https://www.yelp.com/biz/bar-argos-ithaca?adju...</td>\n",
       "      <td>57</td>\n",
       "      <td>[{'alias': 'cocktailbars', 'title': 'Cocktail ...</td>\n",
       "      <td>4.0</td>\n",
       "      <td>{'latitude': 42.4397202, 'longitude': -76.4930...</td>\n",
       "      <td>[]</td>\n",
       "      <td>{'address1': '408 E State St', 'address2': '',...</td>\n",
       "      <td>+16073194437</td>\n",
       "      <td>(607) 319-4437</td>\n",
       "      <td>671.643616</td>\n",
       "      <td>$$</td>\n",
       "    </tr>\n",
       "    <tr>\n",
       "      <td>2</td>\n",
       "      <td>sBlXj41G7RPtFYCfnOlD0g</td>\n",
       "      <td>fall-creek-house-ithaca</td>\n",
       "      <td>Fall Creek House</td>\n",
       "      <td>https://s3-media4.fl.yelpcdn.com/bphoto/NRqky9...</td>\n",
       "      <td>False</td>\n",
       "      <td>https://www.yelp.com/biz/fall-creek-house-itha...</td>\n",
       "      <td>14</td>\n",
       "      <td>[{'alias': 'divebars', 'title': 'Dive Bars'}]</td>\n",
       "      <td>4.5</td>\n",
       "      <td>{'latitude': 42.4527, 'longitude': -76.49496}</td>\n",
       "      <td>[]</td>\n",
       "      <td>{'address1': '302 Lake St', 'address2': '', 'a...</td>\n",
       "      <td>+16072774112</td>\n",
       "      <td>(607) 277-4112</td>\n",
       "      <td>841.394232</td>\n",
       "      <td>$</td>\n",
       "    </tr>\n",
       "    <tr>\n",
       "      <td>3</td>\n",
       "      <td>w312G0LS_gEYUDw4FbnSJg</td>\n",
       "      <td>bike-bar-ithaca</td>\n",
       "      <td>Bike Bar</td>\n",
       "      <td>https://s3-media3.fl.yelpcdn.com/bphoto/EXbSwb...</td>\n",
       "      <td>False</td>\n",
       "      <td>https://www.yelp.com/biz/bike-bar-ithaca?adjus...</td>\n",
       "      <td>1</td>\n",
       "      <td>[{'alias': 'bars', 'title': 'Bars'}]</td>\n",
       "      <td>5.0</td>\n",
       "      <td>{'latitude': 42.4396729451037, 'longitude': -7...</td>\n",
       "      <td>[]</td>\n",
       "      <td>{'address1': '314 E State St', 'address2': 'St...</td>\n",
       "      <td></td>\n",
       "      <td></td>\n",
       "      <td>625.933830</td>\n",
       "      <td>NaN</td>\n",
       "    </tr>\n",
       "    <tr>\n",
       "      <td>4</td>\n",
       "      <td>NrN-0SRAb33cVyTXHj3kPg</td>\n",
       "      <td>silky-jones-ithaca</td>\n",
       "      <td>Silky Jones</td>\n",
       "      <td>https://s3-media3.fl.yelpcdn.com/bphoto/s7dhok...</td>\n",
       "      <td>False</td>\n",
       "      <td>https://www.yelp.com/biz/silky-jones-ithaca?ad...</td>\n",
       "      <td>18</td>\n",
       "      <td>[{'alias': 'lounges', 'title': 'Lounges'}, {'a...</td>\n",
       "      <td>4.0</td>\n",
       "      <td>{'latitude': 42.43974, 'longitude': -76.49616}</td>\n",
       "      <td>[]</td>\n",
       "      <td>{'address1': '214 E State St', 'address2': '',...</td>\n",
       "      <td>+16072883424</td>\n",
       "      <td>(607) 288-3424</td>\n",
       "      <td>581.441884</td>\n",
       "      <td>$</td>\n",
       "    </tr>\n",
       "  </tbody>\n",
       "</table>\n",
       "</div>"
      ],
      "text/plain": [
       "                       id                    alias              name  \\\n",
       "0  2zpObYpke5VlgflNn-mYEg          the-loft-ithaca          The Loft   \n",
       "1  cnH0qX1HOrksbwLOEWl7Gg         bar-argos-ithaca         Bar Argos   \n",
       "2  sBlXj41G7RPtFYCfnOlD0g  fall-creek-house-ithaca  Fall Creek House   \n",
       "3  w312G0LS_gEYUDw4FbnSJg          bike-bar-ithaca          Bike Bar   \n",
       "4  NrN-0SRAb33cVyTXHj3kPg       silky-jones-ithaca       Silky Jones   \n",
       "\n",
       "                                           image_url  is_closed  \\\n",
       "0  https://s3-media4.fl.yelpcdn.com/bphoto/xlA82e...      False   \n",
       "1  https://s3-media1.fl.yelpcdn.com/bphoto/kAUf2d...      False   \n",
       "2  https://s3-media4.fl.yelpcdn.com/bphoto/NRqky9...      False   \n",
       "3  https://s3-media3.fl.yelpcdn.com/bphoto/EXbSwb...      False   \n",
       "4  https://s3-media3.fl.yelpcdn.com/bphoto/s7dhok...      False   \n",
       "\n",
       "                                                 url  review_count  \\\n",
       "0  https://www.yelp.com/biz/the-loft-ithaca?adjus...            14   \n",
       "1  https://www.yelp.com/biz/bar-argos-ithaca?adju...            57   \n",
       "2  https://www.yelp.com/biz/fall-creek-house-itha...            14   \n",
       "3  https://www.yelp.com/biz/bike-bar-ithaca?adjus...             1   \n",
       "4  https://www.yelp.com/biz/silky-jones-ithaca?ad...            18   \n",
       "\n",
       "                                          categories  rating  \\\n",
       "0               [{'alias': 'bars', 'title': 'Bars'}]     5.0   \n",
       "1  [{'alias': 'cocktailbars', 'title': 'Cocktail ...     4.0   \n",
       "2      [{'alias': 'divebars', 'title': 'Dive Bars'}]     4.5   \n",
       "3               [{'alias': 'bars', 'title': 'Bars'}]     5.0   \n",
       "4  [{'alias': 'lounges', 'title': 'Lounges'}, {'a...     4.0   \n",
       "\n",
       "                                         coordinates transactions  \\\n",
       "0  {'latitude': 42.4418159486127, 'longitude': -7...           []   \n",
       "1  {'latitude': 42.4397202, 'longitude': -76.4930...           []   \n",
       "2      {'latitude': 42.4527, 'longitude': -76.49496}           []   \n",
       "3  {'latitude': 42.4396729451037, 'longitude': -7...           []   \n",
       "4     {'latitude': 42.43974, 'longitude': -76.49616}           []   \n",
       "\n",
       "                                            location         phone  \\\n",
       "0  {'address1': '305 Stewart Ave', 'address2': 'F...  +16076450152   \n",
       "1  {'address1': '408 E State St', 'address2': '',...  +16073194437   \n",
       "2  {'address1': '302 Lake St', 'address2': '', 'a...  +16072774112   \n",
       "3  {'address1': '314 E State St', 'address2': 'St...                 \n",
       "4  {'address1': '214 E State St', 'address2': '',...  +16072883424   \n",
       "\n",
       "    display_phone    distance price  \n",
       "0  (607) 645-0152  733.789888   NaN  \n",
       "1  (607) 319-4437  671.643616    $$  \n",
       "2  (607) 277-4112  841.394232     $  \n",
       "3                  625.933830   NaN  \n",
       "4  (607) 288-3424  581.441884     $  "
      ]
     },
     "execution_count": 11,
     "metadata": {},
     "output_type": "execute_result"
    }
   ],
   "source": [
    "df.head(15)"
   ]
  },
  {
   "cell_type": "code",
   "execution_count": 12,
   "metadata": {},
   "outputs": [],
   "source": [
    "# set up the initial params with offset set to 0\n",
    "term = 'bar'\n",
    "location = 'Ithaca NY'\n",
    "SEARCH_LIMIT = 10\n",
    "url = 'https://api.yelp.com/v3/businesses/search'\n",
    "headers = {'Authorization': 'Bearer {}'.format(api_key)}\n",
    "url_params = {'term': term.replace(' ', '+'),\n",
    "             'location': location.replace(' ', '+'),\n",
    "             'limit': SEARCH_LIMIT, \n",
    "             'offset': 0}\n",
    "\n",
    "# make initial call\n",
    "response = requests.get(url, headers=headers, params=url_params)\n",
    "data = response.json()"
   ]
  },
  {
   "cell_type": "code",
   "execution_count": 13,
   "metadata": {},
   "outputs": [],
   "source": [
    "def get_yelp_businesses(offset):\n",
    "    url_params = {'term': term.replace(' ', '+'),\n",
    "             'location': location.replace(' ', '+'),\n",
    "             'limit': SEARCH_LIMIT, \n",
    "             'offset': offset}\n",
    "    response = requests.get(url, headers=headers, params=url_params)\n",
    "    data = response.json()\n",
    "    return pd.DataFrame.from_dict(data['businesses'])"
   ]
  },
  {
   "cell_type": "code",
   "execution_count": 14,
   "metadata": {},
   "outputs": [
    {
     "name": "stdout",
     "output_type": "stream",
     "text": [
      "10\n",
      "20\n",
      "30\n",
      "40\n",
      "50\n",
      "60\n"
     ]
    }
   ],
   "source": [
    "import time\n",
    "# check the total, if > SEARCH_LIMIT\n",
    "if data['total'] > SEARCH_LIMIT:\n",
    "    # will need to pagenated the results\n",
    "    # loop through the pages of data\n",
    "    # inside loop concat the dataframes and use a delay\n",
    "    df = pd.DataFrame.from_dict(data['businesses'])\n",
    "    for i in range(SEARCH_LIMIT,data['total']+SEARCH_LIMIT,SEARCH_LIMIT):\n",
    "        print(i)\n",
    "        new_df = get_yelp_businesses(i)\n",
    "        df = pd.concat([df, new_df], ignore_index=True, sort=False)\n",
    "        time.sleep(1)\n",
    "else:\n",
    "    # got all the results in one call\n",
    "    df = pd.DataFrame.from_dict(data['businesses'])"
   ]
  },
  {
   "cell_type": "code",
   "execution_count": 15,
   "metadata": {},
   "outputs": [
    {
     "name": "stdout",
     "output_type": "stream",
     "text": [
      "<class 'pandas.core.frame.DataFrame'>\n",
      "RangeIndex: 56 entries, 0 to 55\n",
      "Data columns (total 16 columns):\n",
      "id               56 non-null object\n",
      "alias            56 non-null object\n",
      "name             56 non-null object\n",
      "image_url        56 non-null object\n",
      "is_closed        56 non-null bool\n",
      "url              56 non-null object\n",
      "review_count     56 non-null int64\n",
      "categories       56 non-null object\n",
      "rating           56 non-null float64\n",
      "coordinates      56 non-null object\n",
      "transactions     56 non-null object\n",
      "location         56 non-null object\n",
      "phone            56 non-null object\n",
      "display_phone    56 non-null object\n",
      "distance         56 non-null float64\n",
      "price            47 non-null object\n",
      "dtypes: bool(1), float64(2), int64(1), object(12)\n",
      "memory usage: 6.7+ KB\n"
     ]
    }
   ],
   "source": [
    "df.info()"
   ]
  },
  {
   "cell_type": "code",
   "execution_count": 16,
   "metadata": {},
   "outputs": [
    {
     "data": {
      "text/html": [
       "<div>\n",
       "<style scoped>\n",
       "    .dataframe tbody tr th:only-of-type {\n",
       "        vertical-align: middle;\n",
       "    }\n",
       "\n",
       "    .dataframe tbody tr th {\n",
       "        vertical-align: top;\n",
       "    }\n",
       "\n",
       "    .dataframe thead th {\n",
       "        text-align: right;\n",
       "    }\n",
       "</style>\n",
       "<table border=\"1\" class=\"dataframe\">\n",
       "  <thead>\n",
       "    <tr style=\"text-align: right;\">\n",
       "      <th></th>\n",
       "      <th>id</th>\n",
       "      <th>alias</th>\n",
       "      <th>name</th>\n",
       "      <th>image_url</th>\n",
       "      <th>is_closed</th>\n",
       "      <th>url</th>\n",
       "      <th>review_count</th>\n",
       "      <th>categories</th>\n",
       "      <th>rating</th>\n",
       "      <th>coordinates</th>\n",
       "      <th>transactions</th>\n",
       "      <th>location</th>\n",
       "      <th>phone</th>\n",
       "      <th>display_phone</th>\n",
       "      <th>distance</th>\n",
       "      <th>price</th>\n",
       "    </tr>\n",
       "  </thead>\n",
       "  <tbody>\n",
       "    <tr>\n",
       "      <td>0</td>\n",
       "      <td>2zpObYpke5VlgflNn-mYEg</td>\n",
       "      <td>the-loft-ithaca</td>\n",
       "      <td>The Loft</td>\n",
       "      <td>https://s3-media4.fl.yelpcdn.com/bphoto/xlA82e...</td>\n",
       "      <td>False</td>\n",
       "      <td>https://www.yelp.com/biz/the-loft-ithaca?adjus...</td>\n",
       "      <td>14</td>\n",
       "      <td>[{'alias': 'bars', 'title': 'Bars'}]</td>\n",
       "      <td>5.0</td>\n",
       "      <td>{'latitude': 42.4418159486127, 'longitude': -7...</td>\n",
       "      <td>[]</td>\n",
       "      <td>{'address1': '305 Stewart Ave', 'address2': 'F...</td>\n",
       "      <td>+16076450152</td>\n",
       "      <td>(607) 645-0152</td>\n",
       "      <td>733.789888</td>\n",
       "      <td>NaN</td>\n",
       "    </tr>\n",
       "    <tr>\n",
       "      <td>1</td>\n",
       "      <td>cnH0qX1HOrksbwLOEWl7Gg</td>\n",
       "      <td>bar-argos-ithaca</td>\n",
       "      <td>Bar Argos</td>\n",
       "      <td>https://s3-media1.fl.yelpcdn.com/bphoto/kAUf2d...</td>\n",
       "      <td>False</td>\n",
       "      <td>https://www.yelp.com/biz/bar-argos-ithaca?adju...</td>\n",
       "      <td>57</td>\n",
       "      <td>[{'alias': 'cocktailbars', 'title': 'Cocktail ...</td>\n",
       "      <td>4.0</td>\n",
       "      <td>{'latitude': 42.4397202, 'longitude': -76.4930...</td>\n",
       "      <td>[]</td>\n",
       "      <td>{'address1': '408 E State St', 'address2': '',...</td>\n",
       "      <td>+16073194437</td>\n",
       "      <td>(607) 319-4437</td>\n",
       "      <td>671.643616</td>\n",
       "      <td>$$</td>\n",
       "    </tr>\n",
       "    <tr>\n",
       "      <td>2</td>\n",
       "      <td>sBlXj41G7RPtFYCfnOlD0g</td>\n",
       "      <td>fall-creek-house-ithaca</td>\n",
       "      <td>Fall Creek House</td>\n",
       "      <td>https://s3-media4.fl.yelpcdn.com/bphoto/NRqky9...</td>\n",
       "      <td>False</td>\n",
       "      <td>https://www.yelp.com/biz/fall-creek-house-itha...</td>\n",
       "      <td>14</td>\n",
       "      <td>[{'alias': 'divebars', 'title': 'Dive Bars'}]</td>\n",
       "      <td>4.5</td>\n",
       "      <td>{'latitude': 42.4527, 'longitude': -76.49496}</td>\n",
       "      <td>[]</td>\n",
       "      <td>{'address1': '302 Lake St', 'address2': '', 'a...</td>\n",
       "      <td>+16072774112</td>\n",
       "      <td>(607) 277-4112</td>\n",
       "      <td>841.394232</td>\n",
       "      <td>$</td>\n",
       "    </tr>\n",
       "    <tr>\n",
       "      <td>3</td>\n",
       "      <td>w312G0LS_gEYUDw4FbnSJg</td>\n",
       "      <td>bike-bar-ithaca</td>\n",
       "      <td>Bike Bar</td>\n",
       "      <td>https://s3-media3.fl.yelpcdn.com/bphoto/EXbSwb...</td>\n",
       "      <td>False</td>\n",
       "      <td>https://www.yelp.com/biz/bike-bar-ithaca?adjus...</td>\n",
       "      <td>1</td>\n",
       "      <td>[{'alias': 'bars', 'title': 'Bars'}]</td>\n",
       "      <td>5.0</td>\n",
       "      <td>{'latitude': 42.4396729451037, 'longitude': -7...</td>\n",
       "      <td>[]</td>\n",
       "      <td>{'address1': '314 E State St', 'address2': 'St...</td>\n",
       "      <td></td>\n",
       "      <td></td>\n",
       "      <td>625.933830</td>\n",
       "      <td>NaN</td>\n",
       "    </tr>\n",
       "    <tr>\n",
       "      <td>4</td>\n",
       "      <td>NrN-0SRAb33cVyTXHj3kPg</td>\n",
       "      <td>silky-jones-ithaca</td>\n",
       "      <td>Silky Jones</td>\n",
       "      <td>https://s3-media3.fl.yelpcdn.com/bphoto/s7dhok...</td>\n",
       "      <td>False</td>\n",
       "      <td>https://www.yelp.com/biz/silky-jones-ithaca?ad...</td>\n",
       "      <td>18</td>\n",
       "      <td>[{'alias': 'lounges', 'title': 'Lounges'}, {'a...</td>\n",
       "      <td>4.0</td>\n",
       "      <td>{'latitude': 42.43974, 'longitude': -76.49616}</td>\n",
       "      <td>[]</td>\n",
       "      <td>{'address1': '214 E State St', 'address2': '',...</td>\n",
       "      <td>+16072883424</td>\n",
       "      <td>(607) 288-3424</td>\n",
       "      <td>581.441884</td>\n",
       "      <td>$</td>\n",
       "    </tr>\n",
       "  </tbody>\n",
       "</table>\n",
       "</div>"
      ],
      "text/plain": [
       "                       id                    alias              name  \\\n",
       "0  2zpObYpke5VlgflNn-mYEg          the-loft-ithaca          The Loft   \n",
       "1  cnH0qX1HOrksbwLOEWl7Gg         bar-argos-ithaca         Bar Argos   \n",
       "2  sBlXj41G7RPtFYCfnOlD0g  fall-creek-house-ithaca  Fall Creek House   \n",
       "3  w312G0LS_gEYUDw4FbnSJg          bike-bar-ithaca          Bike Bar   \n",
       "4  NrN-0SRAb33cVyTXHj3kPg       silky-jones-ithaca       Silky Jones   \n",
       "\n",
       "                                           image_url  is_closed  \\\n",
       "0  https://s3-media4.fl.yelpcdn.com/bphoto/xlA82e...      False   \n",
       "1  https://s3-media1.fl.yelpcdn.com/bphoto/kAUf2d...      False   \n",
       "2  https://s3-media4.fl.yelpcdn.com/bphoto/NRqky9...      False   \n",
       "3  https://s3-media3.fl.yelpcdn.com/bphoto/EXbSwb...      False   \n",
       "4  https://s3-media3.fl.yelpcdn.com/bphoto/s7dhok...      False   \n",
       "\n",
       "                                                 url  review_count  \\\n",
       "0  https://www.yelp.com/biz/the-loft-ithaca?adjus...            14   \n",
       "1  https://www.yelp.com/biz/bar-argos-ithaca?adju...            57   \n",
       "2  https://www.yelp.com/biz/fall-creek-house-itha...            14   \n",
       "3  https://www.yelp.com/biz/bike-bar-ithaca?adjus...             1   \n",
       "4  https://www.yelp.com/biz/silky-jones-ithaca?ad...            18   \n",
       "\n",
       "                                          categories  rating  \\\n",
       "0               [{'alias': 'bars', 'title': 'Bars'}]     5.0   \n",
       "1  [{'alias': 'cocktailbars', 'title': 'Cocktail ...     4.0   \n",
       "2      [{'alias': 'divebars', 'title': 'Dive Bars'}]     4.5   \n",
       "3               [{'alias': 'bars', 'title': 'Bars'}]     5.0   \n",
       "4  [{'alias': 'lounges', 'title': 'Lounges'}, {'a...     4.0   \n",
       "\n",
       "                                         coordinates transactions  \\\n",
       "0  {'latitude': 42.4418159486127, 'longitude': -7...           []   \n",
       "1  {'latitude': 42.4397202, 'longitude': -76.4930...           []   \n",
       "2      {'latitude': 42.4527, 'longitude': -76.49496}           []   \n",
       "3  {'latitude': 42.4396729451037, 'longitude': -7...           []   \n",
       "4     {'latitude': 42.43974, 'longitude': -76.49616}           []   \n",
       "\n",
       "                                            location         phone  \\\n",
       "0  {'address1': '305 Stewart Ave', 'address2': 'F...  +16076450152   \n",
       "1  {'address1': '408 E State St', 'address2': '',...  +16073194437   \n",
       "2  {'address1': '302 Lake St', 'address2': '', 'a...  +16072774112   \n",
       "3  {'address1': '314 E State St', 'address2': 'St...                 \n",
       "4  {'address1': '214 E State St', 'address2': '',...  +16072883424   \n",
       "\n",
       "    display_phone    distance price  \n",
       "0  (607) 645-0152  733.789888   NaN  \n",
       "1  (607) 319-4437  671.643616    $$  \n",
       "2  (607) 277-4112  841.394232     $  \n",
       "3                  625.933830   NaN  \n",
       "4  (607) 288-3424  581.441884     $  "
      ]
     },
     "execution_count": 16,
     "metadata": {},
     "output_type": "execute_result"
    }
   ],
   "source": [
    "df.head()"
   ]
  },
  {
   "cell_type": "markdown",
   "metadata": {},
   "source": [
    "## Exploratory Analysis\n",
    "\n",
    "Take the restaurants from the previous question and do an initial exploratory analysis. At minimum, this should include looking at the distribution of features such as price, rating and number of reviews as well as the relations between these dimensions."
   ]
  },
  {
   "cell_type": "code",
   "execution_count": 17,
   "metadata": {},
   "outputs": [],
   "source": [
    "# Your code here\n",
    "import seaborn as sns"
   ]
  },
  {
   "cell_type": "code",
   "execution_count": 18,
   "metadata": {},
   "outputs": [
    {
     "data": {
      "text/html": [
       "<div>\n",
       "<style scoped>\n",
       "    .dataframe tbody tr th:only-of-type {\n",
       "        vertical-align: middle;\n",
       "    }\n",
       "\n",
       "    .dataframe tbody tr th {\n",
       "        vertical-align: top;\n",
       "    }\n",
       "\n",
       "    .dataframe thead th {\n",
       "        text-align: right;\n",
       "    }\n",
       "</style>\n",
       "<table border=\"1\" class=\"dataframe\">\n",
       "  <thead>\n",
       "    <tr style=\"text-align: right;\">\n",
       "      <th></th>\n",
       "      <th>review_count</th>\n",
       "      <th>rating</th>\n",
       "      <th>distance</th>\n",
       "    </tr>\n",
       "  </thead>\n",
       "  <tbody>\n",
       "    <tr>\n",
       "      <td>count</td>\n",
       "      <td>56.000000</td>\n",
       "      <td>56.000000</td>\n",
       "      <td>56.000000</td>\n",
       "    </tr>\n",
       "    <tr>\n",
       "      <td>mean</td>\n",
       "      <td>68.071429</td>\n",
       "      <td>3.821429</td>\n",
       "      <td>1797.811276</td>\n",
       "    </tr>\n",
       "    <tr>\n",
       "      <td>std</td>\n",
       "      <td>92.039687</td>\n",
       "      <td>0.741182</td>\n",
       "      <td>2302.773585</td>\n",
       "    </tr>\n",
       "    <tr>\n",
       "      <td>min</td>\n",
       "      <td>1.000000</td>\n",
       "      <td>2.000000</td>\n",
       "      <td>237.052681</td>\n",
       "    </tr>\n",
       "    <tr>\n",
       "      <td>25%</td>\n",
       "      <td>15.000000</td>\n",
       "      <td>3.500000</td>\n",
       "      <td>635.813648</td>\n",
       "    </tr>\n",
       "    <tr>\n",
       "      <td>50%</td>\n",
       "      <td>31.000000</td>\n",
       "      <td>4.000000</td>\n",
       "      <td>837.985826</td>\n",
       "    </tr>\n",
       "    <tr>\n",
       "      <td>75%</td>\n",
       "      <td>85.250000</td>\n",
       "      <td>4.500000</td>\n",
       "      <td>1368.739591</td>\n",
       "    </tr>\n",
       "    <tr>\n",
       "      <td>max</td>\n",
       "      <td>381.000000</td>\n",
       "      <td>5.000000</td>\n",
       "      <td>10858.799126</td>\n",
       "    </tr>\n",
       "  </tbody>\n",
       "</table>\n",
       "</div>"
      ],
      "text/plain": [
       "       review_count     rating      distance\n",
       "count     56.000000  56.000000     56.000000\n",
       "mean      68.071429   3.821429   1797.811276\n",
       "std       92.039687   0.741182   2302.773585\n",
       "min        1.000000   2.000000    237.052681\n",
       "25%       15.000000   3.500000    635.813648\n",
       "50%       31.000000   4.000000    837.985826\n",
       "75%       85.250000   4.500000   1368.739591\n",
       "max      381.000000   5.000000  10858.799126"
      ]
     },
     "execution_count": 18,
     "metadata": {},
     "output_type": "execute_result"
    }
   ],
   "source": [
    "df.describe()"
   ]
  },
  {
   "cell_type": "code",
   "execution_count": 19,
   "metadata": {},
   "outputs": [
    {
     "data": {
      "image/png": "[encoded data removed]",
      "text/plain": [
       "<Figure size 432x288 with 1 Axes>"
      ]
     },
     "metadata": {
      "needs_background": "light"
     },
     "output_type": "display_data"
    }
   ],
   "source": [
    "plot = sns.boxplot(data=df['rating'])"
   ]
  },
  {
   "cell_type": "code",
   "execution_count": 20,
   "metadata": {},
   "outputs": [
    {
     "data": {
      "image/png": "[encoded data removed]",
      "text/plain": [
       "<Figure size 432x288 with 1 Axes>"
      ]
     },
     "metadata": {
      "needs_background": "light"
     },
     "output_type": "display_data"
    }
   ],
   "source": [
    "rc_plot = sns.boxplot(data=df['review_count'])"
   ]
  },
  {
   "cell_type": "code",
   "execution_count": 22,
   "metadata": {},
   "outputs": [
    {
     "data": {
      "text/plain": [
       "<matplotlib.axes._subplots.AxesSubplot at 0x1a1cb16be0>"
      ]
     },
     "execution_count": 22,
     "metadata": {},
     "output_type": "execute_result"
    },
    {
     "data": {
      "image/png": "[encoded data removed]",
      "text/plain": [
       "<Figure size 432x288 with 1 Axes>"
      ]
     },
     "metadata": {
      "needs_background": "light"
     },
     "output_type": "display_data"
    }
   ],
   "source": [
    "sns.distplot(df['review_count'], kde=False, rug=True)"
   ]
  },
  {
   "cell_type": "code",
   "execution_count": 23,
   "metadata": {},
   "outputs": [
    {
     "data": {
      "text/plain": [
       "<matplotlib.axes._subplots.AxesSubplot at 0x1a1ce4e400>"
      ]
     },
     "execution_count": 23,
     "metadata": {},
     "output_type": "execute_result"
    },
    {
     "data": {
      "image/png": "[encoded data removed]",
      "text/plain": [
       "<Figure size 432x288 with 1 Axes>"
      ]
     },
     "metadata": {
      "needs_background": "light"
     },
     "output_type": "display_data"
    }
   ],
   "source": [
    "sns.distplot(df['rating'], kde=False, rug=True)"
   ]
  },
  {
   "cell_type": "code",
   "execution_count": 24,
   "metadata": {},
   "outputs": [
    {
     "data": {
      "text/plain": [
       "<matplotlib.axes._subplots.AxesSubplot at 0x1a1ce75710>"
      ]
     },
     "execution_count": 24,
     "metadata": {},
     "output_type": "execute_result"
    },
    {
     "data": {
      "image/png": "[encoded data removed]",
      "text/plain": [
       "<Figure size 432x288 with 1 Axes>"
      ]
     },
     "metadata": {
      "needs_background": "light"
     },
     "output_type": "display_data"
    }
   ],
   "source": [
    "sns.distplot(df['distance'], kde=False, rug=True)"
   ]
  },
  {
   "cell_type": "markdown",
   "metadata": {},
   "source": [
    "## Mapping\n",
    "\n",
    "Look at the initial Yelp example and try and make a map using Folium of the restaurants you retrieved. Be sure to also add popups to the markers giving some basic information such as name, rating and price."
   ]
  },
  {
   "cell_type": "code",
   "execution_count": 32,
   "metadata": {},
   "outputs": [
    {
     "data": {
      "text/html": [
       "<div>\n",
       "<style scoped>\n",
       "    .dataframe tbody tr th:only-of-type {\n",
       "        vertical-align: middle;\n",
       "    }\n",
       "\n",
       "    .dataframe tbody tr th {\n",
       "        vertical-align: top;\n",
       "    }\n",
       "\n",
       "    .dataframe thead th {\n",
       "        text-align: right;\n",
       "    }\n",
       "</style>\n",
       "<table border=\"1\" class=\"dataframe\">\n",
       "  <thead>\n",
       "    <tr style=\"text-align: right;\">\n",
       "      <th></th>\n",
       "      <th>id</th>\n",
       "      <th>alias</th>\n",
       "      <th>name</th>\n",
       "      <th>image_url</th>\n",
       "      <th>is_closed</th>\n",
       "      <th>url</th>\n",
       "      <th>review_count</th>\n",
       "      <th>categories</th>\n",
       "      <th>rating</th>\n",
       "      <th>coordinates</th>\n",
       "      <th>transactions</th>\n",
       "      <th>location</th>\n",
       "      <th>phone</th>\n",
       "      <th>display_phone</th>\n",
       "      <th>distance</th>\n",
       "      <th>price</th>\n",
       "      <th>latitude</th>\n",
       "    </tr>\n",
       "  </thead>\n",
       "  <tbody>\n",
       "    <tr>\n",
       "      <td>0</td>\n",
       "      <td>2zpObYpke5VlgflNn-mYEg</td>\n",
       "      <td>the-loft-ithaca</td>\n",
       "      <td>The Loft</td>\n",
       "      <td>https://s3-media4.fl.yelpcdn.com/bphoto/xlA82e...</td>\n",
       "      <td>False</td>\n",
       "      <td>https://www.yelp.com/biz/the-loft-ithaca?adjus...</td>\n",
       "      <td>14</td>\n",
       "      <td>[{'alias': 'bars', 'title': 'Bars'}]</td>\n",
       "      <td>5.0</td>\n",
       "      <td>{'latitude': 42.4418159486127, 'longitude': -7...</td>\n",
       "      <td>[]</td>\n",
       "      <td>{'address1': '305 Stewart Ave', 'address2': 'F...</td>\n",
       "      <td>+16076450152</td>\n",
       "      <td>(607) 645-0152</td>\n",
       "      <td>733.789888</td>\n",
       "      <td>NaN</td>\n",
       "      <td>42.441816</td>\n",
       "    </tr>\n",
       "    <tr>\n",
       "      <td>1</td>\n",
       "      <td>cnH0qX1HOrksbwLOEWl7Gg</td>\n",
       "      <td>bar-argos-ithaca</td>\n",
       "      <td>Bar Argos</td>\n",
       "      <td>https://s3-media1.fl.yelpcdn.com/bphoto/kAUf2d...</td>\n",
       "      <td>False</td>\n",
       "      <td>https://www.yelp.com/biz/bar-argos-ithaca?adju...</td>\n",
       "      <td>57</td>\n",
       "      <td>[{'alias': 'cocktailbars', 'title': 'Cocktail ...</td>\n",
       "      <td>4.0</td>\n",
       "      <td>{'latitude': 42.4397202, 'longitude': -76.4930...</td>\n",
       "      <td>[]</td>\n",
       "      <td>{'address1': '408 E State St', 'address2': '',...</td>\n",
       "      <td>+16073194437</td>\n",
       "      <td>(607) 319-4437</td>\n",
       "      <td>671.643616</td>\n",
       "      <td>$$</td>\n",
       "      <td>42.439720</td>\n",
       "    </tr>\n",
       "    <tr>\n",
       "      <td>2</td>\n",
       "      <td>sBlXj41G7RPtFYCfnOlD0g</td>\n",
       "      <td>fall-creek-house-ithaca</td>\n",
       "      <td>Fall Creek House</td>\n",
       "      <td>https://s3-media4.fl.yelpcdn.com/bphoto/NRqky9...</td>\n",
       "      <td>False</td>\n",
       "      <td>https://www.yelp.com/biz/fall-creek-house-itha...</td>\n",
       "      <td>14</td>\n",
       "      <td>[{'alias': 'divebars', 'title': 'Dive Bars'}]</td>\n",
       "      <td>4.5</td>\n",
       "      <td>{'latitude': 42.4527, 'longitude': -76.49496}</td>\n",
       "      <td>[]</td>\n",
       "      <td>{'address1': '302 Lake St', 'address2': '', 'a...</td>\n",
       "      <td>+16072774112</td>\n",
       "      <td>(607) 277-4112</td>\n",
       "      <td>841.394232</td>\n",
       "      <td>$</td>\n",
       "      <td>42.452700</td>\n",
       "    </tr>\n",
       "    <tr>\n",
       "      <td>3</td>\n",
       "      <td>w312G0LS_gEYUDw4FbnSJg</td>\n",
       "      <td>bike-bar-ithaca</td>\n",
       "      <td>Bike Bar</td>\n",
       "      <td>https://s3-media3.fl.yelpcdn.com/bphoto/EXbSwb...</td>\n",
       "      <td>False</td>\n",
       "      <td>https://www.yelp.com/biz/bike-bar-ithaca?adjus...</td>\n",
       "      <td>1</td>\n",
       "      <td>[{'alias': 'bars', 'title': 'Bars'}]</td>\n",
       "      <td>5.0</td>\n",
       "      <td>{'latitude': 42.4396729451037, 'longitude': -7...</td>\n",
       "      <td>[]</td>\n",
       "      <td>{'address1': '314 E State St', 'address2': 'St...</td>\n",
       "      <td></td>\n",
       "      <td></td>\n",
       "      <td>625.933830</td>\n",
       "      <td>NaN</td>\n",
       "      <td>42.439673</td>\n",
       "    </tr>\n",
       "    <tr>\n",
       "      <td>4</td>\n",
       "      <td>NrN-0SRAb33cVyTXHj3kPg</td>\n",
       "      <td>silky-jones-ithaca</td>\n",
       "      <td>Silky Jones</td>\n",
       "      <td>https://s3-media3.fl.yelpcdn.com/bphoto/s7dhok...</td>\n",
       "      <td>False</td>\n",
       "      <td>https://www.yelp.com/biz/silky-jones-ithaca?ad...</td>\n",
       "      <td>18</td>\n",
       "      <td>[{'alias': 'lounges', 'title': 'Lounges'}, {'a...</td>\n",
       "      <td>4.0</td>\n",
       "      <td>{'latitude': 42.43974, 'longitude': -76.49616}</td>\n",
       "      <td>[]</td>\n",
       "      <td>{'address1': '214 E State St', 'address2': '',...</td>\n",
       "      <td>+16072883424</td>\n",
       "      <td>(607) 288-3424</td>\n",
       "      <td>581.441884</td>\n",
       "      <td>$</td>\n",
       "      <td>42.439740</td>\n",
       "    </tr>\n",
       "  </tbody>\n",
       "</table>\n",
       "</div>"
      ],
      "text/plain": [
       "                       id                    alias              name  \\\n",
       "0  2zpObYpke5VlgflNn-mYEg          the-loft-ithaca          The Loft   \n",
       "1  cnH0qX1HOrksbwLOEWl7Gg         bar-argos-ithaca         Bar Argos   \n",
       "2  sBlXj41G7RPtFYCfnOlD0g  fall-creek-house-ithaca  Fall Creek House   \n",
       "3  w312G0LS_gEYUDw4FbnSJg          bike-bar-ithaca          Bike Bar   \n",
       "4  NrN-0SRAb33cVyTXHj3kPg       silky-jones-ithaca       Silky Jones   \n",
       "\n",
       "                                           image_url  is_closed  \\\n",
       "0  https://s3-media4.fl.yelpcdn.com/bphoto/xlA82e...      False   \n",
       "1  https://s3-media1.fl.yelpcdn.com/bphoto/kAUf2d...      False   \n",
       "2  https://s3-media4.fl.yelpcdn.com/bphoto/NRqky9...      False   \n",
       "3  https://s3-media3.fl.yelpcdn.com/bphoto/EXbSwb...      False   \n",
       "4  https://s3-media3.fl.yelpcdn.com/bphoto/s7dhok...      False   \n",
       "\n",
       "                                                 url  review_count  \\\n",
       "0  https://www.yelp.com/biz/the-loft-ithaca?adjus...            14   \n",
       "1  https://www.yelp.com/biz/bar-argos-ithaca?adju...            57   \n",
       "2  https://www.yelp.com/biz/fall-creek-house-itha...            14   \n",
       "3  https://www.yelp.com/biz/bike-bar-ithaca?adjus...             1   \n",
       "4  https://www.yelp.com/biz/silky-jones-ithaca?ad...            18   \n",
       "\n",
       "                                          categories  rating  \\\n",
       "0               [{'alias': 'bars', 'title': 'Bars'}]     5.0   \n",
       "1  [{'alias': 'cocktailbars', 'title': 'Cocktail ...     4.0   \n",
       "2      [{'alias': 'divebars', 'title': 'Dive Bars'}]     4.5   \n",
       "3               [{'alias': 'bars', 'title': 'Bars'}]     5.0   \n",
       "4  [{'alias': 'lounges', 'title': 'Lounges'}, {'a...     4.0   \n",
       "\n",
       "                                         coordinates transactions  \\\n",
       "0  {'latitude': 42.4418159486127, 'longitude': -7...           []   \n",
       "1  {'latitude': 42.4397202, 'longitude': -76.4930...           []   \n",
       "2      {'latitude': 42.4527, 'longitude': -76.49496}           []   \n",
       "3  {'latitude': 42.4396729451037, 'longitude': -7...           []   \n",
       "4     {'latitude': 42.43974, 'longitude': -76.49616}           []   \n",
       "\n",
       "                                            location         phone  \\\n",
       "0  {'address1': '305 Stewart Ave', 'address2': 'F...  +16076450152   \n",
       "1  {'address1': '408 E State St', 'address2': '',...  +16073194437   \n",
       "2  {'address1': '302 Lake St', 'address2': '', 'a...  +16072774112   \n",
       "3  {'address1': '314 E State St', 'address2': 'St...                 \n",
       "4  {'address1': '214 E State St', 'address2': '',...  +16072883424   \n",
       "\n",
       "    display_phone    distance price   latitude  \n",
       "0  (607) 645-0152  733.789888   NaN  42.441816  \n",
       "1  (607) 319-4437  671.643616    $$  42.439720  \n",
       "2  (607) 277-4112  841.394232     $  42.452700  \n",
       "3                  625.933830   NaN  42.439673  \n",
       "4  (607) 288-3424  581.441884     $  42.439740  "
      ]
     },
     "execution_count": 32,
     "metadata": {},
     "output_type": "execute_result"
    }
   ],
   "source": [
    "# Your code here\n",
    "# pull out the latitude and longitude into their own columns\n",
    "# df_w_coords = \n",
    "df['latitude'] = df.coordinates.map(lambda x: x['latitude'])\n",
    "df.head()"
   ]
  },
  {
   "cell_type": "code",
   "execution_count": 33,
   "metadata": {},
   "outputs": [],
   "source": [
    "df['longitude'] = df.coordinates.map(lambda x: x['longitude'])"
   ]
  },
  {
   "cell_type": "code",
   "execution_count": 34,
   "metadata": {},
   "outputs": [
    {
     "data": {
      "text/html": [
       "<div>\n",
       "<style scoped>\n",
       "    .dataframe tbody tr th:only-of-type {\n",
       "        vertical-align: middle;\n",
       "    }\n",
       "\n",
       "    .dataframe tbody tr th {\n",
       "        vertical-align: top;\n",
       "    }\n",
       "\n",
       "    .dataframe thead th {\n",
       "        text-align: right;\n",
       "    }\n",
       "</style>\n",
       "<table border=\"1\" class=\"dataframe\">\n",
       "  <thead>\n",
       "    <tr style=\"text-align: right;\">\n",
       "      <th></th>\n",
       "      <th>id</th>\n",
       "      <th>alias</th>\n",
       "      <th>name</th>\n",
       "      <th>image_url</th>\n",
       "      <th>is_closed</th>\n",
       "      <th>url</th>\n",
       "      <th>review_count</th>\n",
       "      <th>categories</th>\n",
       "      <th>rating</th>\n",
       "      <th>coordinates</th>\n",
       "      <th>transactions</th>\n",
       "      <th>location</th>\n",
       "      <th>phone</th>\n",
       "      <th>display_phone</th>\n",
       "      <th>distance</th>\n",
       "      <th>price</th>\n",
       "      <th>latitude</th>\n",
       "      <th>longitude</th>\n",
       "    </tr>\n",
       "  </thead>\n",
       "  <tbody>\n",
       "    <tr>\n",
       "      <td>0</td>\n",
       "      <td>2zpObYpke5VlgflNn-mYEg</td>\n",
       "      <td>the-loft-ithaca</td>\n",
       "      <td>The Loft</td>\n",
       "      <td>https://s3-media4.fl.yelpcdn.com/bphoto/xlA82e...</td>\n",
       "      <td>False</td>\n",
       "      <td>https://www.yelp.com/biz/the-loft-ithaca?adjus...</td>\n",
       "      <td>14</td>\n",
       "      <td>[{'alias': 'bars', 'title': 'Bars'}]</td>\n",
       "      <td>5.0</td>\n",
       "      <td>{'latitude': 42.4418159486127, 'longitude': -7...</td>\n",
       "      <td>[]</td>\n",
       "      <td>{'address1': '305 Stewart Ave', 'address2': 'F...</td>\n",
       "      <td>+16076450152</td>\n",
       "      <td>(607) 645-0152</td>\n",
       "      <td>733.789888</td>\n",
       "      <td>NaN</td>\n",
       "      <td>42.441816</td>\n",
       "      <td>-76.489614</td>\n",
       "    </tr>\n",
       "    <tr>\n",
       "      <td>1</td>\n",
       "      <td>cnH0qX1HOrksbwLOEWl7Gg</td>\n",
       "      <td>bar-argos-ithaca</td>\n",
       "      <td>Bar Argos</td>\n",
       "      <td>https://s3-media1.fl.yelpcdn.com/bphoto/kAUf2d...</td>\n",
       "      <td>False</td>\n",
       "      <td>https://www.yelp.com/biz/bar-argos-ithaca?adju...</td>\n",
       "      <td>57</td>\n",
       "      <td>[{'alias': 'cocktailbars', 'title': 'Cocktail ...</td>\n",
       "      <td>4.0</td>\n",
       "      <td>{'latitude': 42.4397202, 'longitude': -76.4930...</td>\n",
       "      <td>[]</td>\n",
       "      <td>{'address1': '408 E State St', 'address2': '',...</td>\n",
       "      <td>+16073194437</td>\n",
       "      <td>(607) 319-4437</td>\n",
       "      <td>671.643616</td>\n",
       "      <td>$$</td>\n",
       "      <td>42.439720</td>\n",
       "      <td>-76.493057</td>\n",
       "    </tr>\n",
       "    <tr>\n",
       "      <td>2</td>\n",
       "      <td>sBlXj41G7RPtFYCfnOlD0g</td>\n",
       "      <td>fall-creek-house-ithaca</td>\n",
       "      <td>Fall Creek House</td>\n",
       "      <td>https://s3-media4.fl.yelpcdn.com/bphoto/NRqky9...</td>\n",
       "      <td>False</td>\n",
       "      <td>https://www.yelp.com/biz/fall-creek-house-itha...</td>\n",
       "      <td>14</td>\n",
       "      <td>[{'alias': 'divebars', 'title': 'Dive Bars'}]</td>\n",
       "      <td>4.5</td>\n",
       "      <td>{'latitude': 42.4527, 'longitude': -76.49496}</td>\n",
       "      <td>[]</td>\n",
       "      <td>{'address1': '302 Lake St', 'address2': '', 'a...</td>\n",
       "      <td>+16072774112</td>\n",
       "      <td>(607) 277-4112</td>\n",
       "      <td>841.394232</td>\n",
       "      <td>$</td>\n",
       "      <td>42.452700</td>\n",
       "      <td>-76.494960</td>\n",
       "    </tr>\n",
       "    <tr>\n",
       "      <td>3</td>\n",
       "      <td>w312G0LS_gEYUDw4FbnSJg</td>\n",
       "      <td>bike-bar-ithaca</td>\n",
       "      <td>Bike Bar</td>\n",
       "      <td>https://s3-media3.fl.yelpcdn.com/bphoto/EXbSwb...</td>\n",
       "      <td>False</td>\n",
       "      <td>https://www.yelp.com/biz/bike-bar-ithaca?adjus...</td>\n",
       "      <td>1</td>\n",
       "      <td>[{'alias': 'bars', 'title': 'Bars'}]</td>\n",
       "      <td>5.0</td>\n",
       "      <td>{'latitude': 42.4396729451037, 'longitude': -7...</td>\n",
       "      <td>[]</td>\n",
       "      <td>{'address1': '314 E State St', 'address2': 'St...</td>\n",
       "      <td></td>\n",
       "      <td></td>\n",
       "      <td>625.933830</td>\n",
       "      <td>NaN</td>\n",
       "      <td>42.439673</td>\n",
       "      <td>-76.494928</td>\n",
       "    </tr>\n",
       "    <tr>\n",
       "      <td>4</td>\n",
       "      <td>NrN-0SRAb33cVyTXHj3kPg</td>\n",
       "      <td>silky-jones-ithaca</td>\n",
       "      <td>Silky Jones</td>\n",
       "      <td>https://s3-media3.fl.yelpcdn.com/bphoto/s7dhok...</td>\n",
       "      <td>False</td>\n",
       "      <td>https://www.yelp.com/biz/silky-jones-ithaca?ad...</td>\n",
       "      <td>18</td>\n",
       "      <td>[{'alias': 'lounges', 'title': 'Lounges'}, {'a...</td>\n",
       "      <td>4.0</td>\n",
       "      <td>{'latitude': 42.43974, 'longitude': -76.49616}</td>\n",
       "      <td>[]</td>\n",
       "      <td>{'address1': '214 E State St', 'address2': '',...</td>\n",
       "      <td>+16072883424</td>\n",
       "      <td>(607) 288-3424</td>\n",
       "      <td>581.441884</td>\n",
       "      <td>$</td>\n",
       "      <td>42.439740</td>\n",
       "      <td>-76.496160</td>\n",
       "    </tr>\n",
       "  </tbody>\n",
       "</table>\n",
       "</div>"
      ],
      "text/plain": [
       "                       id                    alias              name  \\\n",
       "0  2zpObYpke5VlgflNn-mYEg          the-loft-ithaca          The Loft   \n",
       "1  cnH0qX1HOrksbwLOEWl7Gg         bar-argos-ithaca         Bar Argos   \n",
       "2  sBlXj41G7RPtFYCfnOlD0g  fall-creek-house-ithaca  Fall Creek House   \n",
       "3  w312G0LS_gEYUDw4FbnSJg          bike-bar-ithaca          Bike Bar   \n",
       "4  NrN-0SRAb33cVyTXHj3kPg       silky-jones-ithaca       Silky Jones   \n",
       "\n",
       "                                           image_url  is_closed  \\\n",
       "0  https://s3-media4.fl.yelpcdn.com/bphoto/xlA82e...      False   \n",
       "1  https://s3-media1.fl.yelpcdn.com/bphoto/kAUf2d...      False   \n",
       "2  https://s3-media4.fl.yelpcdn.com/bphoto/NRqky9...      False   \n",
       "3  https://s3-media3.fl.yelpcdn.com/bphoto/EXbSwb...      False   \n",
       "4  https://s3-media3.fl.yelpcdn.com/bphoto/s7dhok...      False   \n",
       "\n",
       "                                                 url  review_count  \\\n",
       "0  https://www.yelp.com/biz/the-loft-ithaca?adjus...            14   \n",
       "1  https://www.yelp.com/biz/bar-argos-ithaca?adju...            57   \n",
       "2  https://www.yelp.com/biz/fall-creek-house-itha...            14   \n",
       "3  https://www.yelp.com/biz/bike-bar-ithaca?adjus...             1   \n",
       "4  https://www.yelp.com/biz/silky-jones-ithaca?ad...            18   \n",
       "\n",
       "                                          categories  rating  \\\n",
       "0               [{'alias': 'bars', 'title': 'Bars'}]     5.0   \n",
       "1  [{'alias': 'cocktailbars', 'title': 'Cocktail ...     4.0   \n",
       "2      [{'alias': 'divebars', 'title': 'Dive Bars'}]     4.5   \n",
       "3               [{'alias': 'bars', 'title': 'Bars'}]     5.0   \n",
       "4  [{'alias': 'lounges', 'title': 'Lounges'}, {'a...     4.0   \n",
       "\n",
       "                                         coordinates transactions  \\\n",
       "0  {'latitude': 42.4418159486127, 'longitude': -7...           []   \n",
       "1  {'latitude': 42.4397202, 'longitude': -76.4930...           []   \n",
       "2      {'latitude': 42.4527, 'longitude': -76.49496}           []   \n",
       "3  {'latitude': 42.4396729451037, 'longitude': -7...           []   \n",
       "4     {'latitude': 42.43974, 'longitude': -76.49616}           []   \n",
       "\n",
       "                                            location         phone  \\\n",
       "0  {'address1': '305 Stewart Ave', 'address2': 'F...  +16076450152   \n",
       "1  {'address1': '408 E State St', 'address2': '',...  +16073194437   \n",
       "2  {'address1': '302 Lake St', 'address2': '', 'a...  +16072774112   \n",
       "3  {'address1': '314 E State St', 'address2': 'St...                 \n",
       "4  {'address1': '214 E State St', 'address2': '',...  +16072883424   \n",
       "\n",
       "    display_phone    distance price   latitude  longitude  \n",
       "0  (607) 645-0152  733.789888   NaN  42.441816 -76.489614  \n",
       "1  (607) 319-4437  671.643616    $$  42.439720 -76.493057  \n",
       "2  (607) 277-4112  841.394232     $  42.452700 -76.494960  \n",
       "3                  625.933830   NaN  42.439673 -76.494928  \n",
       "4  (607) 288-3424  581.441884     $  42.439740 -76.496160  "
      ]
     },
     "execution_count": 34,
     "metadata": {},
     "output_type": "execute_result"
    }
   ],
   "source": [
    "df.head()"
   ]
  },
  {
   "cell_type": "code",
   "execution_count": 35,
   "metadata": {},
   "outputs": [],
   "source": [
    "import folium"
   ]
  },
  {
   "cell_type": "code",
   "execution_count": 40,
   "metadata": {},
   "outputs": [
    {
     "data": {
      "text/html": [
       "<div style=\"width:100%;\"><div style=\"position:relative;width:100%;height:0;padding-bottom:60%;\"><iframe src=\"data:text/html;charset=utf-8;base64,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\" style=\"position:absolute;width:100%;height:100%;left:0;top:0;border:none !important;\" allowfullscreen webkitallowfullscreen mozallowfullscreen></iframe></div></div>"
      ],
      "text/plain": [
       "<folium.folium.Map at 0x11a1c5828>"
      ]
     },
     "execution_count": 40,
     "metadata": {},
     "output_type": "execute_result"
    }
   ],
   "source": [
    "lat = 42.444\n",
    "long = -76.502\n",
    "\n",
    "bar_map = folium.Map([lat, long], zoom_start=13)\n",
    "bar_map"
   ]
  },
  {
   "cell_type": "code",
   "execution_count": 42,
   "metadata": {},
   "outputs": [
    {
     "data": {
      "text/html": [
       "<div style=\"width:100%;\"><div style=\"position:relative;width:100%;height:0;padding-bottom:60%;\"><iframe src=\"data:text/html;charset=utf-8;base64,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\" style=\"position:absolute;width:100%;height:100%;left:0;top:0;border:none !important;\" allowfullscreen webkitallowfullscreen mozallowfullscreen></iframe></div></div>"
      ],
      "text/plain": [
       "<folium.folium.Map at 0x11a1c5828>"
      ]
     },
     "execution_count": 42,
     "metadata": {},
     "output_type": "execute_result"
    }
   ],
   "source": [
    "# add the bars as markers\n",
    "for index, bar in enumerate(df['name']):\n",
    "    lat = df.iloc[index]['latitude']\n",
    "    long = df.iloc[index]['longitude']\n",
    "    popup_text = bar\n",
    "    popup = folium.Popup(popup_text, parse_html=True)\n",
    "    marker = folium.Marker(location=[lat,long], popup=popup)\n",
    "    marker.add_to(bar_map)\n",
    "bar_map"
   ]
  },
  {
   "cell_type": "markdown",
   "metadata": {},
   "source": []
  },
  {
   "cell_type": "code",
   "execution_count": null,
   "metadata": {},
   "outputs": [],
   "source": []
  },
  {
   "cell_type": "code",
   "execution_count": null,
   "metadata": {},
   "outputs": [],
   "source": []
  },
  {
   "cell_type": "code",
   "execution_count": null,
   "metadata": {},
   "outputs": [],
   "source": []
  },
  {
   "cell_type": "code",
   "execution_count": null,
   "metadata": {},
   "outputs": [],
   "source": []
  },
  {
   "cell_type": "markdown",
   "metadata": {},
   "source": [
    "## Summary\n",
    "\n",
    "Nice work! In this lab, you've made multiple API calls to Yelp in order to paginate through a results set, performing some basic exploratory analysis and then creating a nice interactive map to display the results using Folium! Well done!"
   ]
  }
 ],
 "metadata": {
  "kernelspec": {
   "display_name": "learn-env",
   "language": "python",
   "name": "learn-env"
  },
  "language_info": {
   "codemirror_mode": {
    "name": "ipython",
    "version": 3
   },
   "file_extension": ".py",
   "mimetype": "text/x-python",
   "name": "python",
   "nbconvert_exporter": "python",
   "pygments_lexer": "ipython3",
   "version": "3.6.9"
  },
  "toc": {
   "base_numbering": 1,
   "nav_menu": {},
   "number_sections": true,
   "sideBar": true,
   "skip_h1_title": false,
   "title_cell": "Table of Contents",
   "title_sidebar": "Contents",
   "toc_cell": false,
   "toc_position": {},
   "toc_section_display": true,
   "toc_window_display": false
  }
 },
 "nbformat": 4,
 "nbformat_minor": 2
}
